{
  "nbformat": 4,
  "nbformat_minor": 0,
  "metadata": {
    "colab": {
      "provenance": []
    },
    "kernelspec": {
      "name": "python3",
      "display_name": "Python 3"
    },
    "language_info": {
      "name": "python"
    }
  },
  "cells": [
    {
      "cell_type": "code",
      "execution_count": null,
      "metadata": {
        "id": "Dx4waVu9-AZt"
      },
      "outputs": [],
      "source": [
        "import pandas as pd\n",
        "import matplotlib.pyplot as plt\n",
        "import re"
      ]
    },
    {
      "cell_type": "code",
      "source": [
        "from google.colab import drive\n",
        "drive.mount('/content/drive')"
      ],
      "metadata": {
        "id": "WwZB79Jn_wBK"
      },
      "execution_count": null,
      "outputs": []
    },
    {
      "cell_type": "code",
      "source": [
        "df = pd.read_csv('/content/drive/MyDrive/sales.csv')\n",
        "pd.read_csv('/content/drive/MyDrive/sales.csv')"
      ],
      "metadata": {
        "id": "7AJn47sW_JnG",
        "colab": {
          "base_uri": "https://localhost:8080/",
          "height": 424
        },
        "outputId": "9b949276-3535-45f6-8fe7-844f48803496"
      },
      "execution_count": null,
      "outputs": [
        {
          "output_type": "execute_result",
          "data": {
            "text/plain": [
              "       order_id                        name           ordered_at   price  \\\n",
              "0         10000    \"ICE CREAM\" Peanut Fudge  2018-01-01 11:30:00   $3.50   \n",
              "1         10000    \"ICE CREAM\" Peanut Fudge  2018-01-01 11:30:00   $3.50   \n",
              "2         10001          \"SORBET\" Raspberry  2018-01-01 12:14:54   $2.50   \n",
              "3         10001                         NaN  2018-01-01 12:14:54   $1.50   \n",
              "4         10001   \"CONE\" Dipped Waffle Cone  2018-01-01 12:14:54   $3.50   \n",
              "...         ...                         ...                  ...     ...   \n",
              "29917     18452  \"ICE CREAM\" Dulce De Leche  2018-06-26 03:56:13  $-1.50   \n",
              "29918     12889  \"ICE CREAM\" Dark Chocolate  2018-03-03 10:06:21   $4.00   \n",
              "29919     14526    \"ICE CREAM\" Peanut Fudge  2018-04-05 17:33:24   $3.50   \n",
              "29920     19589   \"CONE\" Dipped Waffle Cone  2018-07-20 09:10:01   $3.50   \n",
              "29921     19270       \"ICE CREAM\" Earl Gray  2018-07-13 09:20:21   $0.50   \n",
              "\n",
              "       quantity line_total        date   temp  rain_dur  temp_max  \n",
              "0             3     $10.50  2018-01-01   7.13    318.63      9.06  \n",
              "1             1      $3.50  2018-01-01   7.13    318.63      9.06  \n",
              "2             2      $5.00  2018-01-02   5.48    284.97      6.89  \n",
              "3             1      $1.50  2018-01-02   5.48    284.97      6.89  \n",
              "4             1      $3.50  2018-01-02   5.48    284.97      6.89  \n",
              "...         ...        ...         ...    ...       ...       ...  \n",
              "29917         2     $-3.00  2018-06-26  19.98      0.00     24.71  \n",
              "29918         3     $12.00  2018-03-03   0.25    206.50      2.96  \n",
              "29919         3     $10.50  2018-04-06  10.91      0.00     17.08  \n",
              "29920         2      $7.00  2018-07-20  23.97     78.68     29.61  \n",
              "29921         2      $1.00  2018-07-13  23.15      1.95     28.47  \n",
              "\n",
              "[29922 rows x 10 columns]"
            ],
            "text/html": [
              "\n",
              "  <div id=\"df-a35dcc41-e5fc-4ee1-a052-99fc8d814d4c\" class=\"colab-df-container\">\n",
              "    <div>\n",
              "<style scoped>\n",
              "    .dataframe tbody tr th:only-of-type {\n",
              "        vertical-align: middle;\n",
              "    }\n",
              "\n",
              "    .dataframe tbody tr th {\n",
              "        vertical-align: top;\n",
              "    }\n",
              "\n",
              "    .dataframe thead th {\n",
              "        text-align: right;\n",
              "    }\n",
              "</style>\n",
              "<table border=\"1\" class=\"dataframe\">\n",
              "  <thead>\n",
              "    <tr style=\"text-align: right;\">\n",
              "      <th></th>\n",
              "      <th>order_id</th>\n",
              "      <th>name</th>\n",
              "      <th>ordered_at</th>\n",
              "      <th>price</th>\n",
              "      <th>quantity</th>\n",
              "      <th>line_total</th>\n",
              "      <th>date</th>\n",
              "      <th>temp</th>\n",
              "      <th>rain_dur</th>\n",
              "      <th>temp_max</th>\n",
              "    </tr>\n",
              "  </thead>\n",
              "  <tbody>\n",
              "    <tr>\n",
              "      <th>0</th>\n",
              "      <td>10000</td>\n",
              "      <td>\"ICE CREAM\" Peanut Fudge</td>\n",
              "      <td>2018-01-01 11:30:00</td>\n",
              "      <td>$3.50</td>\n",
              "      <td>3</td>\n",
              "      <td>$10.50</td>\n",
              "      <td>2018-01-01</td>\n",
              "      <td>7.13</td>\n",
              "      <td>318.63</td>\n",
              "      <td>9.06</td>\n",
              "    </tr>\n",
              "    <tr>\n",
              "      <th>1</th>\n",
              "      <td>10000</td>\n",
              "      <td>\"ICE CREAM\" Peanut Fudge</td>\n",
              "      <td>2018-01-01 11:30:00</td>\n",
              "      <td>$3.50</td>\n",
              "      <td>1</td>\n",
              "      <td>$3.50</td>\n",
              "      <td>2018-01-01</td>\n",
              "      <td>7.13</td>\n",
              "      <td>318.63</td>\n",
              "      <td>9.06</td>\n",
              "    </tr>\n",
              "    <tr>\n",
              "      <th>2</th>\n",
              "      <td>10001</td>\n",
              "      <td>\"SORBET\" Raspberry</td>\n",
              "      <td>2018-01-01 12:14:54</td>\n",
              "      <td>$2.50</td>\n",
              "      <td>2</td>\n",
              "      <td>$5.00</td>\n",
              "      <td>2018-01-02</td>\n",
              "      <td>5.48</td>\n",
              "      <td>284.97</td>\n",
              "      <td>6.89</td>\n",
              "    </tr>\n",
              "    <tr>\n",
              "      <th>3</th>\n",
              "      <td>10001</td>\n",
              "      <td>NaN</td>\n",
              "      <td>2018-01-01 12:14:54</td>\n",
              "      <td>$1.50</td>\n",
              "      <td>1</td>\n",
              "      <td>$1.50</td>\n",
              "      <td>2018-01-02</td>\n",
              "      <td>5.48</td>\n",
              "      <td>284.97</td>\n",
              "      <td>6.89</td>\n",
              "    </tr>\n",
              "    <tr>\n",
              "      <th>4</th>\n",
              "      <td>10001</td>\n",
              "      <td>\"CONE\" Dipped Waffle Cone</td>\n",
              "      <td>2018-01-01 12:14:54</td>\n",
              "      <td>$3.50</td>\n",
              "      <td>1</td>\n",
              "      <td>$3.50</td>\n",
              "      <td>2018-01-02</td>\n",
              "      <td>5.48</td>\n",
              "      <td>284.97</td>\n",
              "      <td>6.89</td>\n",
              "    </tr>\n",
              "    <tr>\n",
              "      <th>...</th>\n",
              "      <td>...</td>\n",
              "      <td>...</td>\n",
              "      <td>...</td>\n",
              "      <td>...</td>\n",
              "      <td>...</td>\n",
              "      <td>...</td>\n",
              "      <td>...</td>\n",
              "      <td>...</td>\n",
              "      <td>...</td>\n",
              "      <td>...</td>\n",
              "    </tr>\n",
              "    <tr>\n",
              "      <th>29917</th>\n",
              "      <td>18452</td>\n",
              "      <td>\"ICE CREAM\" Dulce De Leche</td>\n",
              "      <td>2018-06-26 03:56:13</td>\n",
              "      <td>$-1.50</td>\n",
              "      <td>2</td>\n",
              "      <td>$-3.00</td>\n",
              "      <td>2018-06-26</td>\n",
              "      <td>19.98</td>\n",
              "      <td>0.00</td>\n",
              "      <td>24.71</td>\n",
              "    </tr>\n",
              "    <tr>\n",
              "      <th>29918</th>\n",
              "      <td>12889</td>\n",
              "      <td>\"ICE CREAM\" Dark Chocolate</td>\n",
              "      <td>2018-03-03 10:06:21</td>\n",
              "      <td>$4.00</td>\n",
              "      <td>3</td>\n",
              "      <td>$12.00</td>\n",
              "      <td>2018-03-03</td>\n",
              "      <td>0.25</td>\n",
              "      <td>206.50</td>\n",
              "      <td>2.96</td>\n",
              "    </tr>\n",
              "    <tr>\n",
              "      <th>29919</th>\n",
              "      <td>14526</td>\n",
              "      <td>\"ICE CREAM\" Peanut Fudge</td>\n",
              "      <td>2018-04-05 17:33:24</td>\n",
              "      <td>$3.50</td>\n",
              "      <td>3</td>\n",
              "      <td>$10.50</td>\n",
              "      <td>2018-04-06</td>\n",
              "      <td>10.91</td>\n",
              "      <td>0.00</td>\n",
              "      <td>17.08</td>\n",
              "    </tr>\n",
              "    <tr>\n",
              "      <th>29920</th>\n",
              "      <td>19589</td>\n",
              "      <td>\"CONE\" Dipped Waffle Cone</td>\n",
              "      <td>2018-07-20 09:10:01</td>\n",
              "      <td>$3.50</td>\n",
              "      <td>2</td>\n",
              "      <td>$7.00</td>\n",
              "      <td>2018-07-20</td>\n",
              "      <td>23.97</td>\n",
              "      <td>78.68</td>\n",
              "      <td>29.61</td>\n",
              "    </tr>\n",
              "    <tr>\n",
              "      <th>29921</th>\n",
              "      <td>19270</td>\n",
              "      <td>\"ICE CREAM\" Earl Gray</td>\n",
              "      <td>2018-07-13 09:20:21</td>\n",
              "      <td>$0.50</td>\n",
              "      <td>2</td>\n",
              "      <td>$1.00</td>\n",
              "      <td>2018-07-13</td>\n",
              "      <td>23.15</td>\n",
              "      <td>1.95</td>\n",
              "      <td>28.47</td>\n",
              "    </tr>\n",
              "  </tbody>\n",
              "</table>\n",
              "<p>29922 rows × 10 columns</p>\n",
              "</div>\n",
              "    <div class=\"colab-df-buttons\">\n",
              "\n",
              "  <div class=\"colab-df-container\">\n",
              "    <button class=\"colab-df-convert\" onclick=\"convertToInteractive('df-a35dcc41-e5fc-4ee1-a052-99fc8d814d4c')\"\n",
              "            title=\"Convert this dataframe to an interactive table.\"\n",
              "            style=\"display:none;\">\n",
              "\n",
              "  <svg xmlns=\"http://www.w3.org/2000/svg\" height=\"24px\" viewBox=\"0 -960 960 960\">\n",
              "    <path d=\"M120-120v-720h720v720H120Zm60-500h600v-160H180v160Zm220 220h160v-160H400v160Zm0 220h160v-160H400v160ZM180-400h160v-160H180v160Zm440 0h160v-160H620v160ZM180-180h160v-160H180v160Zm440 0h160v-160H620v160Z\"/>\n",
              "  </svg>\n",
              "    </button>\n",
              "\n",
              "  <style>\n",
              "    .colab-df-container {\n",
              "      display:flex;\n",
              "      gap: 12px;\n",
              "    }\n",
              "\n",
              "    .colab-df-convert {\n",
              "      background-color: #E8F0FE;\n",
              "      border: none;\n",
              "      border-radius: 50%;\n",
              "      cursor: pointer;\n",
              "      display: none;\n",
              "      fill: #1967D2;\n",
              "      height: 32px;\n",
              "      padding: 0 0 0 0;\n",
              "      width: 32px;\n",
              "    }\n",
              "\n",
              "    .colab-df-convert:hover {\n",
              "      background-color: #E2EBFA;\n",
              "      box-shadow: 0px 1px 2px rgba(60, 64, 67, 0.3), 0px 1px 3px 1px rgba(60, 64, 67, 0.15);\n",
              "      fill: #174EA6;\n",
              "    }\n",
              "\n",
              "    .colab-df-buttons div {\n",
              "      margin-bottom: 4px;\n",
              "    }\n",
              "\n",
              "    [theme=dark] .colab-df-convert {\n",
              "      background-color: #3B4455;\n",
              "      fill: #D2E3FC;\n",
              "    }\n",
              "\n",
              "    [theme=dark] .colab-df-convert:hover {\n",
              "      background-color: #434B5C;\n",
              "      box-shadow: 0px 1px 3px 1px rgba(0, 0, 0, 0.15);\n",
              "      filter: drop-shadow(0px 1px 2px rgba(0, 0, 0, 0.3));\n",
              "      fill: #FFFFFF;\n",
              "    }\n",
              "  </style>\n",
              "\n",
              "    <script>\n",
              "      const buttonEl =\n",
              "        document.querySelector('#df-a35dcc41-e5fc-4ee1-a052-99fc8d814d4c button.colab-df-convert');\n",
              "      buttonEl.style.display =\n",
              "        google.colab.kernel.accessAllowed ? 'block' : 'none';\n",
              "\n",
              "      async function convertToInteractive(key) {\n",
              "        const element = document.querySelector('#df-a35dcc41-e5fc-4ee1-a052-99fc8d814d4c');\n",
              "        const dataTable =\n",
              "          await google.colab.kernel.invokeFunction('convertToInteractive',\n",
              "                                                    [key], {});\n",
              "        if (!dataTable) return;\n",
              "\n",
              "        const docLinkHtml = 'Like what you see? Visit the ' +\n",
              "          '<a target=\"_blank\" href=https://colab.research.google.com/notebooks/data_table.ipynb>data table notebook</a>'\n",
              "          + ' to learn more about interactive tables.';\n",
              "        element.innerHTML = '';\n",
              "        dataTable['output_type'] = 'display_data';\n",
              "        await google.colab.output.renderOutput(dataTable, element);\n",
              "        const docLink = document.createElement('div');\n",
              "        docLink.innerHTML = docLinkHtml;\n",
              "        element.appendChild(docLink);\n",
              "      }\n",
              "    </script>\n",
              "  </div>\n",
              "\n",
              "\n",
              "<div id=\"df-6311c987-021f-413b-9328-c28c1f36b594\">\n",
              "  <button class=\"colab-df-quickchart\" onclick=\"quickchart('df-6311c987-021f-413b-9328-c28c1f36b594')\"\n",
              "            title=\"Suggest charts\"\n",
              "            style=\"display:none;\">\n",
              "\n",
              "<svg xmlns=\"http://www.w3.org/2000/svg\" height=\"24px\"viewBox=\"0 0 24 24\"\n",
              "     width=\"24px\">\n",
              "    <g>\n",
              "        <path d=\"M19 3H5c-1.1 0-2 .9-2 2v14c0 1.1.9 2 2 2h14c1.1 0 2-.9 2-2V5c0-1.1-.9-2-2-2zM9 17H7v-7h2v7zm4 0h-2V7h2v10zm4 0h-2v-4h2v4z\"/>\n",
              "    </g>\n",
              "</svg>\n",
              "  </button>\n",
              "\n",
              "<style>\n",
              "  .colab-df-quickchart {\n",
              "      --bg-color: #E8F0FE;\n",
              "      --fill-color: #1967D2;\n",
              "      --hover-bg-color: #E2EBFA;\n",
              "      --hover-fill-color: #174EA6;\n",
              "      --disabled-fill-color: #AAA;\n",
              "      --disabled-bg-color: #DDD;\n",
              "  }\n",
              "\n",
              "  [theme=dark] .colab-df-quickchart {\n",
              "      --bg-color: #3B4455;\n",
              "      --fill-color: #D2E3FC;\n",
              "      --hover-bg-color: #434B5C;\n",
              "      --hover-fill-color: #FFFFFF;\n",
              "      --disabled-bg-color: #3B4455;\n",
              "      --disabled-fill-color: #666;\n",
              "  }\n",
              "\n",
              "  .colab-df-quickchart {\n",
              "    background-color: var(--bg-color);\n",
              "    border: none;\n",
              "    border-radius: 50%;\n",
              "    cursor: pointer;\n",
              "    display: none;\n",
              "    fill: var(--fill-color);\n",
              "    height: 32px;\n",
              "    padding: 0;\n",
              "    width: 32px;\n",
              "  }\n",
              "\n",
              "  .colab-df-quickchart:hover {\n",
              "    background-color: var(--hover-bg-color);\n",
              "    box-shadow: 0 1px 2px rgba(60, 64, 67, 0.3), 0 1px 3px 1px rgba(60, 64, 67, 0.15);\n",
              "    fill: var(--button-hover-fill-color);\n",
              "  }\n",
              "\n",
              "  .colab-df-quickchart-complete:disabled,\n",
              "  .colab-df-quickchart-complete:disabled:hover {\n",
              "    background-color: var(--disabled-bg-color);\n",
              "    fill: var(--disabled-fill-color);\n",
              "    box-shadow: none;\n",
              "  }\n",
              "\n",
              "  .colab-df-spinner {\n",
              "    border: 2px solid var(--fill-color);\n",
              "    border-color: transparent;\n",
              "    border-bottom-color: var(--fill-color);\n",
              "    animation:\n",
              "      spin 1s steps(1) infinite;\n",
              "  }\n",
              "\n",
              "  @keyframes spin {\n",
              "    0% {\n",
              "      border-color: transparent;\n",
              "      border-bottom-color: var(--fill-color);\n",
              "      border-left-color: var(--fill-color);\n",
              "    }\n",
              "    20% {\n",
              "      border-color: transparent;\n",
              "      border-left-color: var(--fill-color);\n",
              "      border-top-color: var(--fill-color);\n",
              "    }\n",
              "    30% {\n",
              "      border-color: transparent;\n",
              "      border-left-color: var(--fill-color);\n",
              "      border-top-color: var(--fill-color);\n",
              "      border-right-color: var(--fill-color);\n",
              "    }\n",
              "    40% {\n",
              "      border-color: transparent;\n",
              "      border-right-color: var(--fill-color);\n",
              "      border-top-color: var(--fill-color);\n",
              "    }\n",
              "    60% {\n",
              "      border-color: transparent;\n",
              "      border-right-color: var(--fill-color);\n",
              "    }\n",
              "    80% {\n",
              "      border-color: transparent;\n",
              "      border-right-color: var(--fill-color);\n",
              "      border-bottom-color: var(--fill-color);\n",
              "    }\n",
              "    90% {\n",
              "      border-color: transparent;\n",
              "      border-bottom-color: var(--fill-color);\n",
              "    }\n",
              "  }\n",
              "</style>\n",
              "\n",
              "  <script>\n",
              "    async function quickchart(key) {\n",
              "      const quickchartButtonEl =\n",
              "        document.querySelector('#' + key + ' button');\n",
              "      quickchartButtonEl.disabled = true;  // To prevent multiple clicks.\n",
              "      quickchartButtonEl.classList.add('colab-df-spinner');\n",
              "      try {\n",
              "        const charts = await google.colab.kernel.invokeFunction(\n",
              "            'suggestCharts', [key], {});\n",
              "      } catch (error) {\n",
              "        console.error('Error during call to suggestCharts:', error);\n",
              "      }\n",
              "      quickchartButtonEl.classList.remove('colab-df-spinner');\n",
              "      quickchartButtonEl.classList.add('colab-df-quickchart-complete');\n",
              "    }\n",
              "    (() => {\n",
              "      let quickchartButtonEl =\n",
              "        document.querySelector('#df-6311c987-021f-413b-9328-c28c1f36b594 button');\n",
              "      quickchartButtonEl.style.display =\n",
              "        google.colab.kernel.accessAllowed ? 'block' : 'none';\n",
              "    })();\n",
              "  </script>\n",
              "</div>\n",
              "    </div>\n",
              "  </div>\n"
            ],
            "application/vnd.google.colaboratory.intrinsic+json": {
              "type": "dataframe",
              "repr_error": "'str' object has no attribute 'empty'"
            }
          },
          "metadata": {},
          "execution_count": 70
        }
      ]
    },
    {
      "cell_type": "code",
      "source": [
        "df.shape"
      ],
      "metadata": {
        "id": "G-E4imPSAubm"
      },
      "execution_count": null,
      "outputs": []
    },
    {
      "cell_type": "code",
      "source": [
        "# Kolonnen ausgeben\n",
        "df.dtypes"
      ],
      "metadata": {
        "id": "sKggM5IoAvul"
      },
      "execution_count": null,
      "outputs": []
    },
    {
      "cell_type": "code",
      "source": [
        "# überprüft ob es in name values hat die null sind\n",
        "df['name'].isnull().values.any()"
      ],
      "metadata": {
        "id": "Lt9Ad8hmA8U0"
      },
      "execution_count": null,
      "outputs": []
    },
    {
      "cell_type": "code",
      "source": [
        "# zählen wie viele null sind\n",
        "df['name'].isnull().sum()"
      ],
      "metadata": {
        "colab": {
          "base_uri": "https://localhost:8080/"
        },
        "id": "zTya4qn8BLOq",
        "outputId": "85418c1d-3957-40e6-bbdc-eb2e8455c16b"
      },
      "execution_count": null,
      "outputs": [
        {
          "output_type": "execute_result",
          "data": {
            "text/plain": [
              "1488"
            ]
          },
          "metadata": {},
          "execution_count": 18
        }
      ]
    },
    {
      "cell_type": "code",
      "source": [
        "# Eine weitere Möglichkeit wäre über die Methode info() des Dataframes. Dort sehen wir, wie viele Not-Null Values wir haben:\n",
        "df.info()"
      ],
      "metadata": {
        "id": "FXOxhOSxBTEM"
      },
      "execution_count": null,
      "outputs": []
    },
    {
      "cell_type": "markdown",
      "source": [
        "# **Umgang mit NULL/NaN Felder**"
      ],
      "metadata": {
        "id": "n8DrYXg6CNs6"
      }
    },
    {
      "cell_type": "code",
      "source": [
        "# alle n/a-Werte mit 0 füllen\n",
        "df2 = df # altes Dataframe in neues kopieren\n",
        "df2 = df2.fillna(0)\n",
        "df2['name'].isnull().sum() # ausgeben wie viele noch null sind --> keine wurden ja alle ersetzt durch 0"
      ],
      "metadata": {
        "id": "4kYSpWrtBbRf"
      },
      "execution_count": null,
      "outputs": []
    },
    {
      "cell_type": "code",
      "source": [
        "df2['name'].isnull().values.any()"
      ],
      "metadata": {
        "id": "kxi_3liuB4-I"
      },
      "execution_count": null,
      "outputs": []
    },
    {
      "cell_type": "code",
      "source": [
        "# Records entfernen\n",
        "df2 = df # altes Dataframe in neues kopieren\n",
        "df2 = df2.dropna()\n",
        "df2"
      ],
      "metadata": {
        "id": "4ix6_I2wCjGp"
      },
      "execution_count": null,
      "outputs": []
    },
    {
      "cell_type": "code",
      "source": [
        "# df auch bereinigen\n",
        "df = df.dropna()"
      ],
      "metadata": {
        "id": "ljIlD943CtDf"
      },
      "execution_count": null,
      "outputs": []
    },
    {
      "cell_type": "code",
      "source": [
        "# Daten sortieren\n",
        "# Möchten wir die Daten in einem Feld sortieren, können wir hier auf sort_values von Pandas zugreifen\n",
        "df.sort_values(by='order_id')"
      ],
      "metadata": {
        "id": "Sz9KA0ymC0pO"
      },
      "execution_count": null,
      "outputs": []
    },
    {
      "cell_type": "code",
      "source": [
        "# Duplikate finden\n",
        "df.duplicated()"
      ],
      "metadata": {
        "id": "iXaAKcbOHx_x"
      },
      "execution_count": null,
      "outputs": []
    },
    {
      "cell_type": "code",
      "source": [
        "# Duplikate entfernen\n",
        "df = df.drop_duplicates()"
      ],
      "metadata": {
        "id": "ko0bOBgOIAuF"
      },
      "execution_count": null,
      "outputs": []
    },
    {
      "cell_type": "code",
      "source": [
        "# Zielspalte in Datetime umwandeln\n",
        "df.ordered_at = pd.to_datetime(df.ordered_at)"
      ],
      "metadata": {
        "id": "jhlkWuZwIr3x"
      },
      "execution_count": null,
      "outputs": []
    },
    {
      "cell_type": "code",
      "source": [
        "# Datentyp für \"price\" und \"line_total\" ändern\n",
        "# Diese Funktion schneidet das erste Zeichen des Strings ab. Konkret wird also\n",
        "#das $-Zeichen entfernt und das gesamte Feld in einen float umgewandelt.\n",
        "df.price = df.price.apply(lambda x: float(x[1:]))"
      ],
      "metadata": {
        "id": "2WYQBfguJI4-"
      },
      "execution_count": null,
      "outputs": []
    },
    {
      "cell_type": "code",
      "source": [
        "# das gleiche für line_total\n",
        "df.line_total = df.line_total.apply(lambda x: float(x[1:]))"
      ],
      "metadata": {
        "id": "qZvFKRsdJ0CP"
      },
      "execution_count": null,
      "outputs": []
    },
    {
      "cell_type": "code",
      "source": [
        "df"
      ],
      "metadata": {
        "id": "JezXTmWgJ6Nx"
      },
      "execution_count": null,
      "outputs": []
    },
    {
      "cell_type": "code",
      "source": [
        "# Wenn wir nun df.info() aufrufen, sehen wir dass Pandas das Datenformat bereits\n",
        "#in \"float64\" geändert hat. Somit müssen wir nichts mehr tun\n",
        "df.info()"
      ],
      "metadata": {
        "id": "g6-7BBy9Kmoa"
      },
      "execution_count": null,
      "outputs": []
    },
    {
      "cell_type": "code",
      "source": [
        "# Numerische Felder analysieren\n",
        "df.describe()"
      ],
      "metadata": {
        "id": "6KAPnb6cKoK8"
      },
      "execution_count": null,
      "outputs": []
    },
    {
      "cell_type": "code",
      "source": [
        "# boxplot für temp\n",
        "plt.boxplot(df.temp)"
      ],
      "metadata": {
        "id": "EQAJA65kK--u"
      },
      "execution_count": null,
      "outputs": []
    },
    {
      "cell_type": "code",
      "source": [
        "# boxplot für temp_max\n",
        "plt.boxplot(df.temp_max)"
      ],
      "metadata": {
        "id": "Yi5GV_OsLOnb"
      },
      "execution_count": null,
      "outputs": []
    },
    {
      "cell_type": "code",
      "source": [
        "# boxplot für rain_dur --> Die Punkte sind Ausreisser\n",
        "plt.boxplot(df.rain_dur)"
      ],
      "metadata": {
        "id": "O0T8Dz4vLdf9"
      },
      "execution_count": null,
      "outputs": []
    },
    {
      "cell_type": "code",
      "source": [
        "# Überblick von Ice-Creme Sorten\n",
        "df.name.unique()"
      ],
      "metadata": {
        "id": "1ltahut9Lh4v"
      },
      "execution_count": null,
      "outputs": []
    },
    {
      "cell_type": "code",
      "source": [
        "pattern = r'^\"([A-Z ]+)\" (.*)'\n",
        "transform_func = lambda x: re.findall(pattern, x)[0]\n",
        "\n",
        "df[['category', 'name']] = df['name'] \\\n",
        "    .apply(transform_func) \\\n",
        "    .apply(pd.Series)"
      ],
      "metadata": {
        "id": "m-rC51psLvL8"
      },
      "execution_count": null,
      "outputs": []
    },
    {
      "cell_type": "code",
      "source": [
        "df.head()"
      ],
      "metadata": {
        "id": "z1yzAYGjMM6Y"
      },
      "execution_count": null,
      "outputs": []
    },
    {
      "cell_type": "code",
      "source": [
        "# Verteilung anzeigen - wieviele Eiscreme pro Sorte verkauft wurden\n",
        "f, ax = plt.subplots(figsize=(10, 6)) # Neuen Plot in der Grösse 10x6 erzeugen\n",
        "df.groupby('name')['line_total'].sum().sort_values(ascending=False).head(10).plot(kind='bar', color=['r', 'g', 'b'])\n",
        "# Dataframe mit dem Feld Name gruppieren, auf das Feld line_total summieren und anschliessend absteigend Sortieren.\n",
        "# Anschliessend werden die zehn oberen Records genommen und mit den Farben rot, grün und blau ausgegeben.\n",
        "f.autofmt_xdate() # Autoformat auf der X-Achse setzen\n",
        "plt.show() # Plot anzeigen"
      ],
      "metadata": {
        "id": "mEN1tmRlMNg6"
      },
      "execution_count": null,
      "outputs": []
    },
    {
      "cell_type": "code",
      "source": [
        "# Das gleiche mit anderen Kategorien\n",
        "f, ax = plt.subplots(figsize=(8, 6)) # Neuen Plot in der Grösse 8x6 erzeugen\n",
        "df.groupby('category')['line_total'].sum().sort_values(ascending=False).plot(kind='bar', color=['r', 'g', 'b'])\n",
        "# Dataframe mit dem Feld Category gruppieren, auf das Feld line_total summieren und anschliessend absteigend Sortieren.\n",
        "# Anschliessend werden die zehn oberen Records genommen und mit den Farben rot, grün und blau ausgegeben.\n",
        "f.autofmt_xdate() # Autoformat auf der X-Achse setzen\n",
        "plt.show() # Plot anzeigen"
      ],
      "metadata": {
        "id": "WanVujQoM8wv"
      },
      "execution_count": null,
      "outputs": []
    },
    {
      "cell_type": "code",
      "source": [
        "# Zeitstrahl\n",
        "f, ax = plt.subplots(figsize=(17, 6)) # Neuen Plot mit der Grösse 17x6 erzeugen\n",
        "df.resample('W', on='ordered_at')['line_total'].sum().plot()\n",
        "# Daten aufsteigend nach \"ordered_at\" neu darstellen und mit dem Linetotal summieren und anschliessend plotten\n",
        "plt.show() # Plot anzeigen"
      ],
      "metadata": {
        "id": "zcl_l6S2NCZY"
      },
      "execution_count": null,
      "outputs": []
    },
    {
      "cell_type": "code",
      "source": [
        "# Weekday Feld erzeugen\n",
        "df['weekday'] = df.apply(lambda x: x['ordered_at'].strftime('%A'), axis=1)"
      ],
      "metadata": {
        "id": "JS9PVr2ENYP6"
      },
      "execution_count": null,
      "outputs": []
    },
    {
      "cell_type": "code",
      "source": [
        "f, ax = plt.subplots(figsize=(10, 7))\n",
        "df.groupby('weekday')['line_total'].sum().sort_values(ascending=False).head(10).plot(kind='bar', color=['r', 'g', 'b'])\n",
        "f.autofmt_xdate()\n",
        "plt.show()"
      ],
      "metadata": {
        "id": "YBbzdkHePOc_"
      },
      "execution_count": null,
      "outputs": []
    },
    {
      "cell_type": "code",
      "source": [
        "# Verkäufe nach Temperatur\n",
        "df_new = df[['date', 'temp', 'line_total']].groupby(['date', 'temp'])['line_total'].sum()"
      ],
      "metadata": {
        "id": "9M1HX9ZMNxv-"
      },
      "execution_count": null,
      "outputs": []
    },
    {
      "cell_type": "code",
      "source": [
        "df_new"
      ],
      "metadata": {
        "id": "Bs_biHbiOy51"
      },
      "execution_count": null,
      "outputs": []
    },
    {
      "cell_type": "code",
      "source": [
        "# Index wieder auf das Datumsfeld zurücksetzen\n",
        "df_new = df_new.reset_index(level=[0,1])"
      ],
      "metadata": {
        "id": "m3jm2DO0O0AO"
      },
      "execution_count": null,
      "outputs": []
    },
    {
      "cell_type": "code",
      "source": [
        "# Scatterplot ausgeben\n",
        "plt.scatter(df_new['temp'], df_new['line_total'])"
      ],
      "metadata": {
        "id": "sGhlrWR7O6lt"
      },
      "execution_count": null,
      "outputs": []
    },
    {
      "cell_type": "code",
      "source": [
        "# Scatterplot über die Regendauer und die Temperatur\n",
        "plt.scatter(df.temp, df.rain_dur)"
      ],
      "metadata": {
        "id": "rDz-XCwLPJBo"
      },
      "execution_count": null,
      "outputs": []
    }
  ]
}