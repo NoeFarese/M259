{
 "cells": [
  {
   "cell_type": "markdown",
   "metadata": {
    "id": "mb_2JYI0R7HJ"
   },
   "source": [
    "# Aufgaben Teil 1\n",
    "\n",
    "Tipp: In der Menuleiste mit \"Edit > Clear all Outputs\" kannst du ein bisschen Übersicht schaffen, wenn viele Daten angezeigt werden."
   ]
  },
  {
   "cell_type": "markdown",
   "metadata": {
    "id": "wzhA_IBbATa7"
   },
   "source": [
    "## Python\n"
   ]
  },
  {
   "cell_type": "markdown",
   "metadata": {
    "id": "aD5Z9v6MBL8Y"
   },
   "source": [
    "### Funktionen und Variablen"
   ]
  },
  {
   "cell_type": "code",
   "execution_count": null,
   "metadata": {
    "id": "FRLk0_G-7xQ_",
    "colab": {
     "base_uri": "https://localhost:8080/"
    },
    "outputId": "f968f5f2-7571-45c9-f359-75711b9aadcf",
    "is_executing": true
   },
   "outputs": [],
   "source": [
    "my_var = 5 # do not specify data type. Equivalent in C#: `int my_var = 5;`\n",
    "\n",
    "def my_function(): # Naming: snake_case\n",
    "  i = 10\n",
    "  print(i + my_var) # can use global variable in methods\n",
    "\n",
    "# To end function, go back one indent\n",
    "\n",
    "my_function()\n",
    "print(my_var) # changes to global variable preserved\n",
    "\n",
    "if my_var > 5 and True: # use `and`, `or`, `not` instead of `&&`, `||`, `!`\n",
    "  print('This will always print')"
   ]
  },
  {
   "cell_type": "code",
   "execution_count": 2,
   "metadata": {
    "id": "y8UHKHTsCChl",
    "ExecuteTime": {
     "end_time": "2024-02-21T14:31:48.093899Z",
     "start_time": "2024-02-21T14:31:48.082199Z"
    }
   },
   "outputs": [
    {
     "data": {
      "text/plain": "-10"
     },
     "execution_count": 2,
     "metadata": {},
     "output_type": "execute_result"
    }
   ],
   "source": [
    "# using my_var from before\n",
    "def my_functionBorken():\n",
    "  my_var = -10 # Cannot change global variable like this, this creates a new variable\n",
    "\n",
    "my_functionBorken()\n",
    "my_var"
   ]
  },
  {
   "cell_type": "code",
   "execution_count": 3,
   "metadata": {
    "id": "k1QOGoCfCg_U",
    "colab": {
     "base_uri": "https://localhost:8080/"
    },
    "outputId": "f464bd8d-1ab8-4abb-f2e0-6a3f6b6a7601",
    "ExecuteTime": {
     "end_time": "2024-02-21T14:31:52.102881Z",
     "start_time": "2024-02-21T14:31:52.097710Z"
    }
   },
   "outputs": [
    {
     "name": "stdout",
     "output_type": "stream",
     "text": [
      "-10\n"
     ]
    }
   ],
   "source": [
    "# using my_var from before\n",
    "def my_functionWithReturn() -> int: # Define return value\n",
    "  x = -10\n",
    "  return x\n",
    "\n",
    "my_var = my_functionWithReturn()\n",
    "print(my_var)"
   ]
  },
  {
   "cell_type": "markdown",
   "metadata": {
    "id": "fRhEhs02DlCV"
   },
   "source": [
    "### Aufgaben\n",
    "\n",
    "Diese Aufgaben sollen alle ohne Libraries wie pandas gelöst werden. Sie sollen als kleines Warm-Up dienen."
   ]
  },
  {
   "cell_type": "code",
   "execution_count": null,
   "metadata": {
    "id": "fphLzMhwE9F6"
   },
   "outputs": [],
   "source": [
    "numbers = [7, 13, 63, 67, 54, 35, 68, 99, 98, 97, 100, 42, 55, 12, 67, 86, 45]"
   ]
  },
  {
   "cell_type": "markdown",
   "metadata": {
    "id": "2gmawWDNFubN"
   },
   "source": [
    "1.1. Verwende `%` und `for .. in ..`, um  alle durch 7 teilbare Zahlen in `numbers` auszugeben\n",
    "\n",
    "1.2. Berechne die Summe von `numbers`"
   ]
  },
  {
   "cell_type": "code",
   "execution_count": null,
   "metadata": {
    "id": "kDetWqn_G8O3",
    "colab": {
     "base_uri": "https://localhost:8080/"
    },
    "outputId": "e8507870-5026-4813-d662-4e473b58dd98"
   },
   "outputs": [
    {
     "output_type": "stream",
     "name": "stdout",
     "text": [
      "7\n",
      "63\n",
      "35\n",
      "98\n",
      "42\n",
      "4\n"
     ]
    }
   ],
   "source": [
    "# 1.1\n",
    "firstValue = numbers[0]\n",
    "for number in numbers:\n",
    "  if(number % 7 == 0):\n",
    "    print(number)\n",
    "\n",
    "print(25 % 7)"
   ]
  },
  {
   "cell_type": "markdown",
   "metadata": {
    "id": "wPDc7L2lG7c2"
   },
   "source": [
    "2.1. [Werfe einen Würfel](https://xkcd.com/221/) (digital oder analog). Erstelle eine Funktion `roll_die() -> int`, die immer die geworfene Zahl zurückgibt.\n",
    "\n",
    "2.2. Erstelle eine Funktion, die eine Zahl `i` nimmt, das erste Element von `numbers` durch `i` teilt und diesen Wert zurück gibt."
   ]
  },
  {
   "cell_type": "code",
   "execution_count": null,
   "metadata": {
    "id": "FPlHzlbWVEDe",
    "colab": {
     "base_uri": "https://localhost:8080/"
    },
    "outputId": "b4ad8c9c-4b12-4f8e-f068-ac806d17f35f"
   },
   "outputs": [
    {
     "output_type": "stream",
     "name": "stdout",
     "text": [
      "0.00013993562961037923\n",
      "Ergebnis der Division: 1.4\n"
     ]
    }
   ],
   "source": [
    "import random\n",
    "\n",
    "def roll_die() -> int:\n",
    "  rolled_number = divide_first_element_of_numbers_with_i(50023)\n",
    "  return rolled_number\n",
    "\n",
    "def divide_first_element_of_numbers_with_i(i):\n",
    "  firstElementOfNumbers = numbers[0]\n",
    "  number = firstElementOfNumbers / i\n",
    "  return number\n",
    "\n",
    "\n",
    "number = roll_die()\n",
    "print(number)\n",
    "\n",
    "# ________________________________________________\n",
    "\n",
    "import random\n",
    "\n",
    "def roll_die() -> int:\n",
    "    return random.randint(1, 6)\n",
    "\n",
    "def divide_first_element(numbers, i):\n",
    "    if len(numbers) > 0 and i != 0:\n",
    "        return numbers[0] / i\n",
    "    else:\n",
    "        return None\n",
    "\n",
    "i = 5\n",
    "result = divide_first_element(numbers, i)\n",
    "print(\"Ergebnis der Division:\", result)\n"
   ]
  }
 ],
 "metadata": {
  "colab": {
   "provenance": []
  },
  "kernelspec": {
   "name": "python3",
   "language": "python",
   "display_name": "Python 3 (ipykernel)"
  },
  "language_info": {
   "codemirror_mode": {
    "name": "ipython",
    "version": 3
   },
   "file_extension": ".py",
   "mimetype": "text/x-python",
   "name": "python",
   "nbconvert_exporter": "python",
   "pygments_lexer": "ipython3",
   "version": "3.10.11"
  }
 },
 "nbformat": 4,
 "nbformat_minor": 0
}
