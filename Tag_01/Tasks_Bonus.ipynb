{
  "cells": [
    {
      "cell_type": "code",
      "execution_count": null,
      "id": "398a7d90",
      "metadata": {
        "ExecuteTime": {
          "end_time": "2022-03-11T14:16:32.395592Z",
          "start_time": "2022-03-11T14:16:32.393063Z"
        },
        "id": "398a7d90"
      },
      "outputs": [],
      "source": [
        "import numpy as np\n",
        "import pandas as pd\n",
        "\n",
        "# Task 1.5\n",
        "pd.options.display.max_columns = 30"
      ]
    },
    {
      "cell_type": "markdown",
      "id": "598557db",
      "metadata": {
        "id": "598557db"
      },
      "source": [
        "# Intro to Pandas"
      ]
    },
    {
      "cell_type": "markdown",
      "id": "2c4af31c",
      "metadata": {
        "id": "2c4af31c"
      },
      "source": [
        "# 1. Load data\n",
        "\n",
        "We are using house sale price dataset that can be obtained from Kaggle: https://www.kaggle.com/c/house-prices-advanced-regression-techniques/overview/description\n",
        "\n",
        "With 79 explanatory variables describing (almost) every aspect of residential homes in Ames, Iowa, the competition challenges you to predict the final price of each home."
      ]
    },
    {
      "cell_type": "markdown",
      "id": "bb34e50a",
      "metadata": {
        "id": "bb34e50a"
      },
      "source": [
        "## Tasks:\n",
        "1.1. Load `train.csv` file using `pd.read_csv()` function.\n",
        "\n",
        "1.2. Print top 10 and last 10 observations in the table using `.head()` and `.tail()`\n",
        "\n",
        "1.3. Print all the data columns names using method `.columns`\n",
        "\n",
        "1.4. Print number of rows and columns using method `.shape`\n",
        "\n",
        "1.5. You may also want to increase maximal displayed pandas columns: set `pd.options.display.max_columns` to 30"
      ]
    },
    {
      "cell_type": "code",
      "execution_count": null,
      "id": "2a049498",
      "metadata": {
        "id": "2a049498"
      },
      "outputs": [],
      "source": [
        "# Task 1.1\n",
        "df_train = pd.read_csv('https://gist.githubusercontent.com/lukee910/c233bf0ea6899a91d50ce804133b6aa1/raw/82b8c6e9aa57309aa1ce2a1302c4c3fc72e11ae3/train.csv')"
      ]
    },
    {
      "cell_type": "code",
      "source": [
        "# Task 1.2 - head\n",
        "df_train.head(10)"
      ],
      "metadata": {
        "id": "M7h4Z7ssHyth"
      },
      "id": "M7h4Z7ssHyth",
      "execution_count": null,
      "outputs": []
    },
    {
      "cell_type": "code",
      "source": [
        "# Task 1.2 - tail\n",
        "df_train.tail(10)"
      ],
      "metadata": {
        "id": "pLEiEBAaHypg"
      },
      "id": "pLEiEBAaHypg",
      "execution_count": null,
      "outputs": []
    },
    {
      "cell_type": "code",
      "source": [
        "# Task 1.3\n",
        "df_train.columns"
      ],
      "metadata": {
        "id": "zsEXYucpHyiw"
      },
      "id": "zsEXYucpHyiw",
      "execution_count": null,
      "outputs": []
    },
    {
      "cell_type": "code",
      "source": [
        "# Task 1.4\n",
        "num_rows, num_cols = df_train.shape\n",
        "print(\"Number of rows:\", num_rows)\n",
        "print(\"Number of columns:\", num_cols)"
      ],
      "metadata": {
        "colab": {
          "base_uri": "https://localhost:8080/"
        },
        "id": "2zyxA2ERHyaz",
        "outputId": "766eb6bb-1b5b-406a-df96-6c1b3e057d45"
      },
      "id": "2zyxA2ERHyaz",
      "execution_count": null,
      "outputs": [
        {
          "output_type": "stream",
          "name": "stdout",
          "text": [
            "Number of rows: 1460\n",
            "Number of columns: 81\n"
          ]
        }
      ]
    },
    {
      "cell_type": "markdown",
      "id": "de5f53b0",
      "metadata": {
        "id": "de5f53b0"
      },
      "source": [
        "# 3. Data selection\n",
        "\n",
        "In pandas.DataFrame you can select\n",
        "\n",
        "1. Row/s by position (integer number \\[0 .. number of rows - 1\\]) `.iloc` or by DataFrame.index `.loc`:\n",
        "```\n",
        "data.loc[0]\n",
        "data.loc[5:10]\n",
        "data.iloc[0]\n",
        "data.iloc[5:10]\n",
        "```\n",
        "\n",
        "2. Columns by name\n",
        "```\n",
        "data[columname]\n",
        "```\n",
        "3. Row/s and columns\n",
        "```\n",
        "data.loc[10, columname]\n",
        "data.iloc[10, columname]\n",
        "```\n",
        "4. Using boolean mask\n",
        "```\n",
        "data[data[columname] > value]\n",
        "```\n",
        "You can combine multiple conditions using `&` or `|` (and, or)\n",
        "\n",
        "```\n",
        "cond1 = data[columname1] > value1\n",
        "cond2 = data[columname2] > value2\n",
        "data[cond1 & cond2]\n",
        "```\n",
        "5. Using queries `.query()`:\n",
        "```\n",
        "value = 5\n",
        "data.query(\"columname > value\")\n",
        "```\n",
        "You could combine multiple conditions using `and`, `or`\n",
        "\n",
        "```\n",
        "data.query(\"(columname1 > value1) and (columname2 > value2)\")\n",
        "```\n",
        "and others. See https://pandas.pydata.org/pandas-docs/stable/user_guide/indexing.html for more examples.\n"
      ]
    },
    {
      "cell_type": "markdown",
      "id": "ac0a988d",
      "metadata": {
        "id": "ac0a988d"
      },
      "source": [
        "# 4. Groupby - Bonus\n",
        "\n",
        "from the documentation https://pandas.pydata.org/pandas-docs/stable/user_guide/groupby.html\n",
        "\n",
        "By “group by” we are referring to a process involving one or more of the following steps:\n",
        "\n",
        "    - Splitting the data into groups based on some criteria.\n",
        "    - Applying a function to each group independently.\n",
        "    - Combining the results into a data structure.\n",
        "    \n",
        "---\n",
        "`.groupby()` is one of the most powerfull tool for feature engineering. Very often it is used to group object with the same categorical characteristics and compute some statistics (e.g. mean, max, etc.) of a their numerical characteric."
      ]
    },
    {
      "cell_type": "markdown",
      "id": "955927db",
      "metadata": {
        "ExecuteTime": {
          "end_time": "2022-02-15T19:35:46.695988Z",
          "start_time": "2022-02-15T19:35:46.692000Z"
        },
        "id": "955927db"
      },
      "source": [
        "## Tasks\n",
        "4.1. Compute mean remodel date (`YearRemodAdd`) for each overall condition (`OverallCond`)\n",
        "\n",
        "4.2. Compute min and max price for each date (MM.YYYY)\n",
        "\n",
        "4.3. Create a new feature `StyleArea` for `df_train` indicating minimum above ground living area (`GrLivArea`) within the group of houses with specific `RoofStyle`, `Foundation`, `Heating`, and `GarageType`."
      ]
    },
    {
      "cell_type": "code",
      "execution_count": null,
      "id": "9a2b1414",
      "metadata": {
        "id": "9a2b1414"
      },
      "outputs": [],
      "source": [
        "# Task 4.1\n",
        "mean_remodel_date = df_train.groupby('OverallCond')['YearRemodAdd'].mean()\n",
        "print(mean_remodel_date)"
      ]
    },
    {
      "cell_type": "code",
      "source": [
        "# Task 3.2\n"
      ],
      "metadata": {
        "id": "Eb-0tFsvNsaD"
      },
      "id": "Eb-0tFsvNsaD",
      "execution_count": null,
      "outputs": []
    },
    {
      "cell_type": "markdown",
      "id": "81058935",
      "metadata": {
        "id": "81058935"
      },
      "source": [
        "# 5. Data visualisation - Bonus"
      ]
    },
    {
      "cell_type": "code",
      "execution_count": null,
      "id": "58ca2826",
      "metadata": {
        "ExecuteTime": {
          "end_time": "2022-03-09T18:48:18.594655Z",
          "start_time": "2022-03-09T18:48:17.678317Z"
        },
        "id": "58ca2826"
      },
      "outputs": [],
      "source": [
        "import seaborn as sns\n",
        "sns.set(font_scale=1.2, style=\"whitegrid\", palette='magma')\n",
        "import matplotlib.pyplot as plt"
      ]
    },
    {
      "cell_type": "markdown",
      "id": "65851492",
      "metadata": {
        "id": "65851492"
      },
      "source": [
        "## Tasks\n",
        "\n",
        "5.1. Plot number of missing values as pandas `bar` plot\n",
        "\n",
        "5.2. Plot target variable distribution using `sns.distplot`\n",
        "\n",
        "5.3. Visualise feature correlation matrix using `sns.heatmap`\n",
        "\n",
        "5.4. Use `sns.boxplot` to show sale price variability within each OverallQual category\n",
        "\n",
        "5.5. Study relationship between price and GrLivArea feature (above grade (ground) living area square feet) using `scatter` plot\n",
        "\n",
        "5.6. Use `sns.pairplot` to visialise pairwise relations for 'SalePrice', 'OverallQual', 'GrLivArea', 'GarageCars', 'TotalBsmtSF', 'FullBath', and 'YearBuilt'.\n"
      ]
    }
  ],
  "metadata": {
    "kernelspec": {
      "display_name": "Python 3.10.4 64-bit",
      "language": "python",
      "name": "python3"
    },
    "language_info": {
      "codemirror_mode": {
        "name": "ipython",
        "version": 3
      },
      "file_extension": ".py",
      "mimetype": "text/x-python",
      "name": "python",
      "nbconvert_exporter": "python",
      "pygments_lexer": "ipython3",
      "version": "3.10.4"
    },
    "vscode": {
      "interpreter": {
        "hash": "e1719be7d630e7e0894a4346e00239747771550a505546fd5ba4d63ceaa06c07"
      }
    },
    "colab": {
      "provenance": []
    }
  },
  "nbformat": 4,
  "nbformat_minor": 5
}