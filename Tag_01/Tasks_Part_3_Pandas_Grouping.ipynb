{
 "cells": [
  {
   "cell_type": "markdown",
   "metadata": {
    "id": "mb_2JYI0R7HJ"
   },
   "source": [
    "# Aufgaben Teil 3\n",
    "\n",
    "Tipp: In der Menuleiste mit \"Edit > Clear all Outputs\" kannst du ein bisschen Übersicht schaffen, wenn viele Daten angezeigt werden."
   ]
  },
  {
   "cell_type": "markdown",
   "metadata": {
    "id": "q5iYTI2uIUvR"
   },
   "source": [
    "## Pandas, again"
   ]
  },
  {
   "cell_type": "code",
   "execution_count": 1,
   "metadata": {
    "id": "AAqtzZniIh9J",
    "ExecuteTime": {
     "end_time": "2024-02-21T14:15:56.339570Z",
     "start_time": "2024-02-21T14:15:56.331481Z"
    }
   },
   "outputs": [
    {
     "ename": "ModuleNotFoundError",
     "evalue": "No module named 'numpy'",
     "output_type": "error",
     "traceback": [
      "\u001B[0;31m---------------------------------------------------------------------------\u001B[0m",
      "\u001B[0;31mModuleNotFoundError\u001B[0m                       Traceback (most recent call last)",
      "Cell \u001B[0;32mIn[1], line 1\u001B[0m\n\u001B[0;32m----> 1\u001B[0m \u001B[38;5;28;01mimport\u001B[39;00m \u001B[38;5;21;01mnumpy\u001B[39;00m \u001B[38;5;28;01mas\u001B[39;00m \u001B[38;5;21;01mnp\u001B[39;00m\n\u001B[1;32m      2\u001B[0m \u001B[38;5;28;01mimport\u001B[39;00m \u001B[38;5;21;01mpandas\u001B[39;00m \u001B[38;5;28;01mas\u001B[39;00m \u001B[38;5;21;01mpd\u001B[39;00m\n\u001B[1;32m      3\u001B[0m \u001B[38;5;28;01mimport\u001B[39;00m \u001B[38;5;21;01mseaborn\u001B[39;00m \u001B[38;5;28;01mas\u001B[39;00m \u001B[38;5;21;01msns\u001B[39;00m\n",
      "\u001B[0;31mModuleNotFoundError\u001B[0m: No module named 'numpy'"
     ]
    }
   ],
   "source": [
    "import numpy as np\n",
    "import pandas as pd\n",
    "import seaborn as sns\n",
    "sns.set(font_scale=1.2, style=\"whitegrid\", palette='magma')\n",
    "import matplotlib.pyplot as plt"
   ]
  },
  {
   "cell_type": "code",
   "execution_count": 1,
   "metadata": {
    "id": "5gzxAv7qIp_V",
    "ExecuteTime": {
     "end_time": "2024-02-21T14:34:49.957136Z",
     "start_time": "2024-02-21T14:34:49.742097Z"
    }
   },
   "outputs": [
    {
     "ename": "NameError",
     "evalue": "name 'sns' is not defined",
     "output_type": "error",
     "traceback": [
      "\u001B[0;31m---------------------------------------------------------------------------\u001B[0m",
      "\u001B[0;31mNameError\u001B[0m                                 Traceback (most recent call last)",
      "Cell \u001B[0;32mIn[1], line 1\u001B[0m\n\u001B[0;32m----> 1\u001B[0m mpg \u001B[38;5;241m=\u001B[39m \u001B[43msns\u001B[49m\u001B[38;5;241m.\u001B[39mload_dataset(\u001B[38;5;124m'\u001B[39m\u001B[38;5;124mmpg\u001B[39m\u001B[38;5;124m'\u001B[39m)\n\u001B[1;32m      2\u001B[0m mpg\u001B[38;5;241m.\u001B[39mhead(\u001B[38;5;241m10\u001B[39m)\n",
      "\u001B[0;31mNameError\u001B[0m: name 'sns' is not defined"
     ]
    }
   ],
   "source": [
    "mpg = sns.load_dataset('mpg')\n",
    "mpg.head(10)"
   ]
  },
  {
   "cell_type": "markdown",
   "metadata": {
    "id": "ZUEOZpLMI4y3"
   },
   "source": [
    "### Gruppierungen\n",
    "\n",
    "Mit pandas kann man Daten Gruppieren und so Werte über bestimmte ähnliche Zeilen berechnen."
   ]
  },
  {
   "cell_type": "code",
   "execution_count": null,
   "metadata": {
    "id": "EIoSTgK7IvgJ"
   },
   "outputs": [],
   "source": [
    "mpg_cyl = mpg.groupby('cylinders')\n",
    "mpg_cyl.first() # Gibt pro Gruppe den ersten Wert aus"
   ]
  },
  {
   "cell_type": "code",
   "execution_count": null,
   "metadata": {
    "id": "7nHwCUTvMv9P"
   },
   "outputs": [],
   "source": [
    "# Man kann über gruppen iterieren\n",
    "for name, group in mpg_cyl:\n",
    "  print(name)\n",
    "  print(group.shape)"
   ]
  },
  {
   "cell_type": "code",
   "execution_count": 51,
   "metadata": {
    "id": "42uS9gwyJXoW",
    "colab": {
     "base_uri": "https://localhost:8080/",
     "height": 394
    },
    "outputId": "3ea50a19-1fcb-49cf-a5de-dc96013af279"
   },
   "outputs": [
    {
     "output_type": "execute_result",
     "data": {
      "text/plain": [
       "                       mpg  displacement  horsepower  weight  acceleration  \\\n",
       "cylinders model_year                                                         \n",
       "3         72          19.0          70.0   99.250000    2330          13.5   \n",
       "          73          18.0          70.0   99.250000    2124          13.5   \n",
       "          77          21.5          80.0   99.250000    2720          13.5   \n",
       "          80          23.7          70.0   99.250000    2420          12.5   \n",
       "4         70          24.0         113.0   78.281407    2372          15.0   \n",
       "          71          27.0          97.0   78.281407    2130          14.5   \n",
       "          72          24.0         113.0   78.281407    2278          15.5   \n",
       "          73          26.0          97.0   78.281407    1950          21.0   \n",
       "          74          31.0          79.0   78.281407    1950          19.0   \n",
       "          75          29.0          97.0   78.281407    2171          16.0   \n",
       "\n",
       "                      origin                     name  \n",
       "cylinders model_year                                   \n",
       "3         72           japan          mazda rx2 coupe  \n",
       "          73           japan                maxda rx3  \n",
       "          77           japan               mazda rx-4  \n",
       "          80           japan            mazda rx-7 gs  \n",
       "4         70           japan    toyota corona mark ii  \n",
       "          71           japan             datsun pl510  \n",
       "          72           japan    toyota corona hardtop  \n",
       "          73          europe  volkswagen super beetle  \n",
       "          74           japan              datsun b210  \n",
       "          75           japan           toyota corolla  "
      ],
      "text/html": [
       "\n",
       "  <div id=\"df-134b20de-e774-4ccc-a93f-e9a87685d826\" class=\"colab-df-container\">\n",
       "    <div>\n",
       "<style scoped>\n",
       "    .dataframe tbody tr th:only-of-type {\n",
       "        vertical-align: middle;\n",
       "    }\n",
       "\n",
       "    .dataframe tbody tr th {\n",
       "        vertical-align: top;\n",
       "    }\n",
       "\n",
       "    .dataframe thead th {\n",
       "        text-align: right;\n",
       "    }\n",
       "</style>\n",
       "<table border=\"1\" class=\"dataframe\">\n",
       "  <thead>\n",
       "    <tr style=\"text-align: right;\">\n",
       "      <th></th>\n",
       "      <th></th>\n",
       "      <th>mpg</th>\n",
       "      <th>displacement</th>\n",
       "      <th>horsepower</th>\n",
       "      <th>weight</th>\n",
       "      <th>acceleration</th>\n",
       "      <th>origin</th>\n",
       "      <th>name</th>\n",
       "    </tr>\n",
       "    <tr>\n",
       "      <th>cylinders</th>\n",
       "      <th>model_year</th>\n",
       "      <th></th>\n",
       "      <th></th>\n",
       "      <th></th>\n",
       "      <th></th>\n",
       "      <th></th>\n",
       "      <th></th>\n",
       "      <th></th>\n",
       "    </tr>\n",
       "  </thead>\n",
       "  <tbody>\n",
       "    <tr>\n",
       "      <th rowspan=\"4\" valign=\"top\">3</th>\n",
       "      <th>72</th>\n",
       "      <td>19.0</td>\n",
       "      <td>70.0</td>\n",
       "      <td>99.250000</td>\n",
       "      <td>2330</td>\n",
       "      <td>13.5</td>\n",
       "      <td>japan</td>\n",
       "      <td>mazda rx2 coupe</td>\n",
       "    </tr>\n",
       "    <tr>\n",
       "      <th>73</th>\n",
       "      <td>18.0</td>\n",
       "      <td>70.0</td>\n",
       "      <td>99.250000</td>\n",
       "      <td>2124</td>\n",
       "      <td>13.5</td>\n",
       "      <td>japan</td>\n",
       "      <td>maxda rx3</td>\n",
       "    </tr>\n",
       "    <tr>\n",
       "      <th>77</th>\n",
       "      <td>21.5</td>\n",
       "      <td>80.0</td>\n",
       "      <td>99.250000</td>\n",
       "      <td>2720</td>\n",
       "      <td>13.5</td>\n",
       "      <td>japan</td>\n",
       "      <td>mazda rx-4</td>\n",
       "    </tr>\n",
       "    <tr>\n",
       "      <th>80</th>\n",
       "      <td>23.7</td>\n",
       "      <td>70.0</td>\n",
       "      <td>99.250000</td>\n",
       "      <td>2420</td>\n",
       "      <td>12.5</td>\n",
       "      <td>japan</td>\n",
       "      <td>mazda rx-7 gs</td>\n",
       "    </tr>\n",
       "    <tr>\n",
       "      <th rowspan=\"6\" valign=\"top\">4</th>\n",
       "      <th>70</th>\n",
       "      <td>24.0</td>\n",
       "      <td>113.0</td>\n",
       "      <td>78.281407</td>\n",
       "      <td>2372</td>\n",
       "      <td>15.0</td>\n",
       "      <td>japan</td>\n",
       "      <td>toyota corona mark ii</td>\n",
       "    </tr>\n",
       "    <tr>\n",
       "      <th>71</th>\n",
       "      <td>27.0</td>\n",
       "      <td>97.0</td>\n",
       "      <td>78.281407</td>\n",
       "      <td>2130</td>\n",
       "      <td>14.5</td>\n",
       "      <td>japan</td>\n",
       "      <td>datsun pl510</td>\n",
       "    </tr>\n",
       "    <tr>\n",
       "      <th>72</th>\n",
       "      <td>24.0</td>\n",
       "      <td>113.0</td>\n",
       "      <td>78.281407</td>\n",
       "      <td>2278</td>\n",
       "      <td>15.5</td>\n",
       "      <td>japan</td>\n",
       "      <td>toyota corona hardtop</td>\n",
       "    </tr>\n",
       "    <tr>\n",
       "      <th>73</th>\n",
       "      <td>26.0</td>\n",
       "      <td>97.0</td>\n",
       "      <td>78.281407</td>\n",
       "      <td>1950</td>\n",
       "      <td>21.0</td>\n",
       "      <td>europe</td>\n",
       "      <td>volkswagen super beetle</td>\n",
       "    </tr>\n",
       "    <tr>\n",
       "      <th>74</th>\n",
       "      <td>31.0</td>\n",
       "      <td>79.0</td>\n",
       "      <td>78.281407</td>\n",
       "      <td>1950</td>\n",
       "      <td>19.0</td>\n",
       "      <td>japan</td>\n",
       "      <td>datsun b210</td>\n",
       "    </tr>\n",
       "    <tr>\n",
       "      <th>75</th>\n",
       "      <td>29.0</td>\n",
       "      <td>97.0</td>\n",
       "      <td>78.281407</td>\n",
       "      <td>2171</td>\n",
       "      <td>16.0</td>\n",
       "      <td>japan</td>\n",
       "      <td>toyota corolla</td>\n",
       "    </tr>\n",
       "  </tbody>\n",
       "</table>\n",
       "</div>\n",
       "    <div class=\"colab-df-buttons\">\n",
       "\n",
       "  <div class=\"colab-df-container\">\n",
       "    <button class=\"colab-df-convert\" onclick=\"convertToInteractive('df-134b20de-e774-4ccc-a93f-e9a87685d826')\"\n",
       "            title=\"Convert this dataframe to an interactive table.\"\n",
       "            style=\"display:none;\">\n",
       "\n",
       "  <svg xmlns=\"http://www.w3.org/2000/svg\" height=\"24px\" viewBox=\"0 -960 960 960\">\n",
       "    <path d=\"M120-120v-720h720v720H120Zm60-500h600v-160H180v160Zm220 220h160v-160H400v160Zm0 220h160v-160H400v160ZM180-400h160v-160H180v160Zm440 0h160v-160H620v160ZM180-180h160v-160H180v160Zm440 0h160v-160H620v160Z\"/>\n",
       "  </svg>\n",
       "    </button>\n",
       "\n",
       "  <style>\n",
       "    .colab-df-container {\n",
       "      display:flex;\n",
       "      gap: 12px;\n",
       "    }\n",
       "\n",
       "    .colab-df-convert {\n",
       "      background-color: #E8F0FE;\n",
       "      border: none;\n",
       "      border-radius: 50%;\n",
       "      cursor: pointer;\n",
       "      display: none;\n",
       "      fill: #1967D2;\n",
       "      height: 32px;\n",
       "      padding: 0 0 0 0;\n",
       "      width: 32px;\n",
       "    }\n",
       "\n",
       "    .colab-df-convert:hover {\n",
       "      background-color: #E2EBFA;\n",
       "      box-shadow: 0px 1px 2px rgba(60, 64, 67, 0.3), 0px 1px 3px 1px rgba(60, 64, 67, 0.15);\n",
       "      fill: #174EA6;\n",
       "    }\n",
       "\n",
       "    .colab-df-buttons div {\n",
       "      margin-bottom: 4px;\n",
       "    }\n",
       "\n",
       "    [theme=dark] .colab-df-convert {\n",
       "      background-color: #3B4455;\n",
       "      fill: #D2E3FC;\n",
       "    }\n",
       "\n",
       "    [theme=dark] .colab-df-convert:hover {\n",
       "      background-color: #434B5C;\n",
       "      box-shadow: 0px 1px 3px 1px rgba(0, 0, 0, 0.15);\n",
       "      filter: drop-shadow(0px 1px 2px rgba(0, 0, 0, 0.3));\n",
       "      fill: #FFFFFF;\n",
       "    }\n",
       "  </style>\n",
       "\n",
       "    <script>\n",
       "      const buttonEl =\n",
       "        document.querySelector('#df-134b20de-e774-4ccc-a93f-e9a87685d826 button.colab-df-convert');\n",
       "      buttonEl.style.display =\n",
       "        google.colab.kernel.accessAllowed ? 'block' : 'none';\n",
       "\n",
       "      async function convertToInteractive(key) {\n",
       "        const element = document.querySelector('#df-134b20de-e774-4ccc-a93f-e9a87685d826');\n",
       "        const dataTable =\n",
       "          await google.colab.kernel.invokeFunction('convertToInteractive',\n",
       "                                                    [key], {});\n",
       "        if (!dataTable) return;\n",
       "\n",
       "        const docLinkHtml = 'Like what you see? Visit the ' +\n",
       "          '<a target=\"_blank\" href=https://colab.research.google.com/notebooks/data_table.ipynb>data table notebook</a>'\n",
       "          + ' to learn more about interactive tables.';\n",
       "        element.innerHTML = '';\n",
       "        dataTable['output_type'] = 'display_data';\n",
       "        await google.colab.output.renderOutput(dataTable, element);\n",
       "        const docLink = document.createElement('div');\n",
       "        docLink.innerHTML = docLinkHtml;\n",
       "        element.appendChild(docLink);\n",
       "      }\n",
       "    </script>\n",
       "  </div>\n",
       "\n",
       "\n",
       "<div id=\"df-ebf42be7-295c-48c7-8303-848486d76946\">\n",
       "  <button class=\"colab-df-quickchart\" onclick=\"quickchart('df-ebf42be7-295c-48c7-8303-848486d76946')\"\n",
       "            title=\"Suggest charts\"\n",
       "            style=\"display:none;\">\n",
       "\n",
       "<svg xmlns=\"http://www.w3.org/2000/svg\" height=\"24px\"viewBox=\"0 0 24 24\"\n",
       "     width=\"24px\">\n",
       "    <g>\n",
       "        <path d=\"M19 3H5c-1.1 0-2 .9-2 2v14c0 1.1.9 2 2 2h14c1.1 0 2-.9 2-2V5c0-1.1-.9-2-2-2zM9 17H7v-7h2v7zm4 0h-2V7h2v10zm4 0h-2v-4h2v4z\"/>\n",
       "    </g>\n",
       "</svg>\n",
       "  </button>\n",
       "\n",
       "<style>\n",
       "  .colab-df-quickchart {\n",
       "      --bg-color: #E8F0FE;\n",
       "      --fill-color: #1967D2;\n",
       "      --hover-bg-color: #E2EBFA;\n",
       "      --hover-fill-color: #174EA6;\n",
       "      --disabled-fill-color: #AAA;\n",
       "      --disabled-bg-color: #DDD;\n",
       "  }\n",
       "\n",
       "  [theme=dark] .colab-df-quickchart {\n",
       "      --bg-color: #3B4455;\n",
       "      --fill-color: #D2E3FC;\n",
       "      --hover-bg-color: #434B5C;\n",
       "      --hover-fill-color: #FFFFFF;\n",
       "      --disabled-bg-color: #3B4455;\n",
       "      --disabled-fill-color: #666;\n",
       "  }\n",
       "\n",
       "  .colab-df-quickchart {\n",
       "    background-color: var(--bg-color);\n",
       "    border: none;\n",
       "    border-radius: 50%;\n",
       "    cursor: pointer;\n",
       "    display: none;\n",
       "    fill: var(--fill-color);\n",
       "    height: 32px;\n",
       "    padding: 0;\n",
       "    width: 32px;\n",
       "  }\n",
       "\n",
       "  .colab-df-quickchart:hover {\n",
       "    background-color: var(--hover-bg-color);\n",
       "    box-shadow: 0 1px 2px rgba(60, 64, 67, 0.3), 0 1px 3px 1px rgba(60, 64, 67, 0.15);\n",
       "    fill: var(--button-hover-fill-color);\n",
       "  }\n",
       "\n",
       "  .colab-df-quickchart-complete:disabled,\n",
       "  .colab-df-quickchart-complete:disabled:hover {\n",
       "    background-color: var(--disabled-bg-color);\n",
       "    fill: var(--disabled-fill-color);\n",
       "    box-shadow: none;\n",
       "  }\n",
       "\n",
       "  .colab-df-spinner {\n",
       "    border: 2px solid var(--fill-color);\n",
       "    border-color: transparent;\n",
       "    border-bottom-color: var(--fill-color);\n",
       "    animation:\n",
       "      spin 1s steps(1) infinite;\n",
       "  }\n",
       "\n",
       "  @keyframes spin {\n",
       "    0% {\n",
       "      border-color: transparent;\n",
       "      border-bottom-color: var(--fill-color);\n",
       "      border-left-color: var(--fill-color);\n",
       "    }\n",
       "    20% {\n",
       "      border-color: transparent;\n",
       "      border-left-color: var(--fill-color);\n",
       "      border-top-color: var(--fill-color);\n",
       "    }\n",
       "    30% {\n",
       "      border-color: transparent;\n",
       "      border-left-color: var(--fill-color);\n",
       "      border-top-color: var(--fill-color);\n",
       "      border-right-color: var(--fill-color);\n",
       "    }\n",
       "    40% {\n",
       "      border-color: transparent;\n",
       "      border-right-color: var(--fill-color);\n",
       "      border-top-color: var(--fill-color);\n",
       "    }\n",
       "    60% {\n",
       "      border-color: transparent;\n",
       "      border-right-color: var(--fill-color);\n",
       "    }\n",
       "    80% {\n",
       "      border-color: transparent;\n",
       "      border-right-color: var(--fill-color);\n",
       "      border-bottom-color: var(--fill-color);\n",
       "    }\n",
       "    90% {\n",
       "      border-color: transparent;\n",
       "      border-bottom-color: var(--fill-color);\n",
       "    }\n",
       "  }\n",
       "</style>\n",
       "\n",
       "  <script>\n",
       "    async function quickchart(key) {\n",
       "      const quickchartButtonEl =\n",
       "        document.querySelector('#' + key + ' button');\n",
       "      quickchartButtonEl.disabled = true;  // To prevent multiple clicks.\n",
       "      quickchartButtonEl.classList.add('colab-df-spinner');\n",
       "      try {\n",
       "        const charts = await google.colab.kernel.invokeFunction(\n",
       "            'suggestCharts', [key], {});\n",
       "      } catch (error) {\n",
       "        console.error('Error during call to suggestCharts:', error);\n",
       "      }\n",
       "      quickchartButtonEl.classList.remove('colab-df-spinner');\n",
       "      quickchartButtonEl.classList.add('colab-df-quickchart-complete');\n",
       "    }\n",
       "    (() => {\n",
       "      let quickchartButtonEl =\n",
       "        document.querySelector('#df-ebf42be7-295c-48c7-8303-848486d76946 button');\n",
       "      quickchartButtonEl.style.display =\n",
       "        google.colab.kernel.accessAllowed ? 'block' : 'none';\n",
       "    })();\n",
       "  </script>\n",
       "</div>\n",
       "    </div>\n",
       "  </div>\n"
      ],
      "application/vnd.google.colaboratory.intrinsic+json": {
       "type": "dataframe",
       "summary": "{\n  \"name\": \"mpg_cyl_year\",\n  \"rows\": 10,\n  \"fields\": [\n    {\n      \"column\": \"mpg\",\n      \"properties\": {\n        \"dtype\": \"number\",\n        \"std\": 4.12736127702811,\n        \"min\": 18.0,\n        \"max\": 31.0,\n        \"num_unique_values\": 9,\n        \"samples\": [\n          31.0,\n          18.0,\n          27.0\n        ],\n        \"semantic_type\": \"\",\n        \"description\": \"\"\n      }\n    },\n    {\n      \"column\": \"displacement\",\n      \"properties\": {\n        \"dtype\": \"number\",\n        \"std\": 17.017637908946117,\n        \"min\": 70.0,\n        \"max\": 113.0,\n        \"num_unique_values\": 5,\n        \"samples\": [\n          80.0,\n          79.0,\n          113.0\n        ],\n        \"semantic_type\": \"\",\n        \"description\": \"\"\n      }\n    },\n    {\n      \"column\": \"horsepower\",\n      \"properties\": {\n        \"dtype\": \"number\",\n        \"std\": 10.828134846155445,\n        \"min\": 78.28140703517587,\n        \"max\": 99.25,\n        \"num_unique_values\": 2,\n        \"samples\": [\n          78.28140703517587,\n          99.25\n        ],\n        \"semantic_type\": \"\",\n        \"description\": \"\"\n      }\n    },\n    {\n      \"column\": \"weight\",\n      \"properties\": {\n        \"dtype\": \"number\",\n        \"std\": 232,\n        \"min\": 1950,\n        \"max\": 2720,\n        \"num_unique_values\": 9,\n        \"samples\": [\n          1950,\n          2124\n        ],\n        \"semantic_type\": \"\",\n        \"description\": \"\"\n      }\n    },\n    {\n      \"column\": \"acceleration\",\n      \"properties\": {\n        \"dtype\": \"number\",\n        \"std\": 2.6853512081497106,\n        \"min\": 12.5,\n        \"max\": 21.0,\n        \"num_unique_values\": 8,\n        \"samples\": [\n          12.5,\n          21.0\n        ],\n        \"semantic_type\": \"\",\n        \"description\": \"\"\n      }\n    },\n    {\n      \"column\": \"origin\",\n      \"properties\": {\n        \"dtype\": \"category\",\n        \"num_unique_values\": 2,\n        \"samples\": [\n          \"europe\",\n          \"japan\"\n        ],\n        \"semantic_type\": \"\",\n        \"description\": \"\"\n      }\n    },\n    {\n      \"column\": \"name\",\n      \"properties\": {\n        \"dtype\": \"string\",\n        \"num_unique_values\": 10,\n        \"samples\": [\n          \"datsun b210\",\n          \"maxda rx3\"\n        ],\n        \"semantic_type\": \"\",\n        \"description\": \"\"\n      }\n    }\n  ]\n}"
      }
     },
     "metadata": {},
     "execution_count": 51
    }
   ],
   "source": [
    "mpg_cyl_year = mpg.groupby(['cylinders', 'model_year']) # Kann auch nach mehreren Spalten gruppieren\n",
    "mpg_cyl_year.first().head(10)"
   ]
  },
  {
   "cell_type": "markdown",
   "metadata": {
    "id": "eVSNZ-Z7KKjA"
   },
   "source": [
    "### Aufgaben\n",
    "\n",
    "Bemerkung: `mpg` steht für den Verbrauch in \"miles per gallon\", höher ist besser. Werte in imperischen Einheiten, also pounds, gallons miles und cubic inches.\n",
    "\n",
    "3.1. Verschaffe dir ein Bild des mpg-Datensets ähnlich \"Tasks Part 2 Pandas\". Das muss nicht gründlich sein.\n",
    "\n",
    "3.2. Berechne den Durschnitt von `mpg` pro Anzahl Zylinder.\n",
    "\n",
    "3.3. Erstelle eine Kopie des Dataframes, welches das Gewicht in kg anstatt lb hat. Tipp: 1 lb = 0.453 kg. Tipp 2: `dataframe['column'] = other_df['column']`. Tipp 3: `dataframe['column'] - 10` ist gültiger Code, probiere es mal aus.\n",
    "\n",
    "3.4. Teile `mpg` in zwei Dataframes auf, eines mit der Spalte mpg und ein anderes mit allen anderen Spalten.\n",
    "\n",
    "3.5. Verwende `groupby` und `for .. in ..` um folgendes zu berechnen: Was ist der Name des Autos mit dem höchsten Gewicht pro Jahr?\n",
    "\n",
    "(Bonus 3.5.' Aufgabe 3.5. könnte man auch ohne `for .. in ..` lösen. Wie?)\n",
    "\n",
    "3.6.a) Finde alle Zeilen mit NaN in `horsepower`\n",
    "\n",
    "3.6.b) Berechne die durchschnittlichen `horspower` pro Anzahl Zylinder.\n",
    "\n",
    "3.6.c) Erstelle eine Methode, die ein Dataframe nimmt und ein Dataframe zurückgibt, in welchem alle NaN-Werte in `horsepower` mit den Durschnittlichen `horspower` gruppiert nach Anzahl Zylinder ersetzt wurden. Tipp: Verwende die vorherigen Teilaufgaben und ein `for .. in ..` auf die Zeilen mit NaN. Es ist einfacher, nicht `fillna` zu verwenden, sondern das pro Zeile einzeln zu ersetzen."
   ]
  },
  {
   "cell_type": "code",
   "execution_count": null,
   "metadata": {
    "id": "FJrYPKSjR4te"
   },
   "outputs": [],
   "source": [
    "# Task 3.1 - Verschaffe dir ein Bild des mpg-Datensets ähnlich \"Tasks Part 2 Pandas\". Das muss nicht gründlich sein.\n",
    "sns.load_dataset('mpg')"
   ]
  },
  {
   "cell_type": "code",
   "source": [
    "# Task 3.2 - Berechne den Durschnitt von mpg pro Anzahl Zylinder\n",
    "mpg.groupby('cylinders')['mpg'].mean()"
   ],
   "metadata": {
    "id": "oZTvEqOZu0iD"
   },
   "execution_count": null,
   "outputs": []
  },
  {
   "cell_type": "code",
   "source": [
    "# Task 3.3\n",
    "mpg_copy = mpg.copy()\n",
    "mpg_copy['weight'] = mpg_copy['weight'] * 0.453\n",
    "print(mpg_copy['weight'])"
   ],
   "metadata": {
    "id": "Zq-xOIeWu1Qp"
   },
   "execution_count": null,
   "outputs": []
  },
  {
   "cell_type": "code",
   "source": [
    "# Task 3.4 - Teile mpg in zwei Dataframes auf, eines mit der Spalte mpg und ein anderes mit allen anderen Spalten.\n",
    "mpg_split = mpg[['mpg']]\n",
    "mpg_other = mpg.drop(columns=['mpg'])\n",
    "\n",
    "print(mpg_split)\n",
    "print(mpg_other)"
   ],
   "metadata": {
    "id": "ehnZ53_Eu1T2"
   },
   "execution_count": null,
   "outputs": []
  },
  {
   "cell_type": "code",
   "source": [
    "# Task 3.5 - Verwende groupby und for .. in .. um folgendes zu berechnen: Was ist der Name des Autos mit dem höchsten Gewicht pro Jahr?\n",
    "for year, group in mpg.groupby('model_year'):\n",
    "    max_weight = group['weight'].idxmax()\n",
    "    car_name = group.loc[max_weight, 'name']\n",
    "    print(\"Jahr: \", year)\n",
    "    print(\"Name: \", car_name)"
   ],
   "metadata": {
    "id": "scHZz1IWu1XA",
    "ExecuteTime": {
     "end_time": "2024-02-21T14:34:58.799580Z",
     "start_time": "2024-02-21T14:34:58.777481Z"
    }
   },
   "execution_count": 2,
   "outputs": [
    {
     "ename": "NameError",
     "evalue": "name 'mpg' is not defined",
     "output_type": "error",
     "traceback": [
      "\u001B[0;31m---------------------------------------------------------------------------\u001B[0m",
      "\u001B[0;31mNameError\u001B[0m                                 Traceback (most recent call last)",
      "Cell \u001B[0;32mIn[2], line 2\u001B[0m\n\u001B[1;32m      1\u001B[0m \u001B[38;5;66;03m# Task 3.5 - Verwende groupby und for .. in .. um folgendes zu berechnen: Was ist der Name des Autos mit dem höchsten Gewicht pro Jahr?\u001B[39;00m\n\u001B[0;32m----> 2\u001B[0m \u001B[38;5;28;01mfor\u001B[39;00m year, group \u001B[38;5;129;01min\u001B[39;00m \u001B[43mmpg\u001B[49m\u001B[38;5;241m.\u001B[39mgroupby(\u001B[38;5;124m'\u001B[39m\u001B[38;5;124mmodel_year\u001B[39m\u001B[38;5;124m'\u001B[39m):\n\u001B[1;32m      3\u001B[0m     max_weight \u001B[38;5;241m=\u001B[39m group[\u001B[38;5;124m'\u001B[39m\u001B[38;5;124mweight\u001B[39m\u001B[38;5;124m'\u001B[39m]\u001B[38;5;241m.\u001B[39midxmax()\n\u001B[1;32m      4\u001B[0m     car_name \u001B[38;5;241m=\u001B[39m group\u001B[38;5;241m.\u001B[39mloc[max_weight, \u001B[38;5;124m'\u001B[39m\u001B[38;5;124mname\u001B[39m\u001B[38;5;124m'\u001B[39m]\n",
      "\u001B[0;31mNameError\u001B[0m: name 'mpg' is not defined"
     ]
    }
   ]
  },
  {
   "cell_type": "code",
   "source": [
    "# Task 3.5 - Bonus: könnte man auch ohne for .. in .. lösen. Wie?\n",
    "max_weight_per_year = mpg.groupby('model_year')['weight'].idxmax().apply(lambda x: mpg.loc[x, 'name'])\n",
    "print(max_weight_per_year)"
   ],
   "metadata": {
    "id": "5nn7-sq7_FK4"
   },
   "execution_count": null,
   "outputs": []
  },
  {
   "cell_type": "code",
   "source": [
    "# Task 3.6 a) - Finde alle Zeilen mit NaN in horsepower\n",
    "nan_horsepower = mpg[mpg['horsepower'].isna()]\n",
    "print(nan_horsepower)"
   ],
   "metadata": {
    "id": "taUnFpCvu1Z3"
   },
   "execution_count": null,
   "outputs": []
  },
  {
   "cell_type": "code",
   "source": [
    "# Task 3.6 b) - Berechne die durchschnittlichen horspower pro Anzahl Zylinder.\n",
    "mpg.groupby('cylinders')['horsepower'].mean()"
   ],
   "metadata": {
    "id": "RsFm53xm1RaD"
   },
   "execution_count": null,
   "outputs": []
  },
  {
   "cell_type": "code",
   "source": [
    "# Task 3.6 c) - V1.0\n",
    "def replace_nan_with_avg(mpg):\n",
    "    avg_horsepower_per_cylinders = mpg.groupby('cylinders')['horsepower'].mean()\n",
    "    mpg_copy = mpg.copy()\n",
    "\n",
    "    for index, row in mpg_copy.iterrows():\n",
    "        if [mpg_copy['']]\n",
    "        cylinders = row['cylinders']\n",
    "        avg_horsepower = avg_horsepower_per_cylinders[cylinders]\n",
    "        mpg_copy.at[index, 'horsepower'] = avg_horsepower\n",
    "\n",
    "    return mpg_copy\n",
    "\n",
    "mpg_with_replaced_horsepower = replace_nan_with_avg(mpg)\n",
    "print(mpg_with_replaced_horsepower)"
   ],
   "metadata": {
    "id": "FvW5GXXt1RSB"
   },
   "execution_count": null,
   "outputs": []
  },
  {
   "cell_type": "code",
   "source": [
    "# Task 3.6 c) - V2.0\n",
    "def replace_nan_with_avg(mpg):\n",
    "    avg_horsepower_per_cylinders = mpg.groupby('cylinders')['horsepower'].mean()\n",
    "\n",
    "    for index, row in mpg.iterrows():\n",
    "        if [mpg['horsepower'].isna()]:\n",
    "            mpg.at[index, 'horsepower'] = avg_horsepower_per_cylinders[row['cylinders']]\n",
    "\n",
    "    return mpg\n",
    "\n",
    "result_mpg = replace_nan_with_avg(mpg)\n",
    "\n",
    "print(result_mpg)"
   ],
   "metadata": {
    "id": "b7R_5rrs57o2"
   },
   "execution_count": null,
   "outputs": []
  }
 ],
 "metadata": {
  "colab": {
   "provenance": []
  },
  "kernelspec": {
   "name": "python3",
   "language": "python",
   "display_name": "Python 3 (ipykernel)"
  },
  "language_info": {
   "name": "python"
  }
 },
 "nbformat": 4,
 "nbformat_minor": 0
}
